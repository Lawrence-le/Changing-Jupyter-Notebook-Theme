{
 "cells": [
  {
   "cell_type": "code",
   "execution_count": null,
   "id": "d7abba06",
   "metadata": {},
   "outputs": [],
   "source": [
    "#Install Jupyter Theme"
   ]
  },
  {
   "cell_type": "code",
   "execution_count": null,
   "id": "ac1fde6f",
   "metadata": {},
   "outputs": [],
   "source": [
    "!pip install jupyterthemes"
   ]
  },
  {
   "cell_type": "code",
   "execution_count": null,
   "id": "b746119f",
   "metadata": {},
   "outputs": [],
   "source": [
    "#List all themes available"
   ]
  },
  {
   "cell_type": "code",
   "execution_count": 8,
   "id": "715e154b",
   "metadata": {},
   "outputs": [
    {
     "name": "stdout",
     "output_type": "stream",
     "text": [
      "Available Themes: \n",
      "   chesterish\n",
      "   grade3\n",
      "   gruvboxd\n",
      "   gruvboxl\n",
      "   monokai\n",
      "   oceans16\n",
      "   onedork\n",
      "   solarizedd\n",
      "   solarizedl\n"
     ]
    }
   ],
   "source": [
    "!jt -l"
   ]
  },
  {
   "cell_type": "code",
   "execution_count": null,
   "id": "cb8b02ec",
   "metadata": {},
   "outputs": [],
   "source": [
    "#Change Theme\n",
    "##After running !jt -t <theme> refresh your browser. New theme is applied!\n",
    "##In case refreshing doesn't work close notebook and reopen from navigator. "
   ]
  },
  {
   "cell_type": "code",
   "execution_count": 1,
   "id": "e78b2528",
   "metadata": {},
   "outputs": [],
   "source": [
    "!jt -t oceans16"
   ]
  },
  {
   "cell_type": "code",
   "execution_count": 1,
   "id": "cd68ebe8",
   "metadata": {},
   "outputs": [],
   "source": [
    "#Restore to Original Theme"
   ]
  },
  {
   "cell_type": "code",
   "execution_count": null,
   "id": "c0a5b182",
   "metadata": {},
   "outputs": [],
   "source": [
    "!jt -r"
   ]
  },
  {
   "cell_type": "code",
   "execution_count": null,
   "id": "b5235ad9",
   "metadata": {},
   "outputs": [],
   "source": []
  }
 ],
 "metadata": {
  "kernelspec": {
   "display_name": "Python 3 (ipykernel)",
   "language": "python",
   "name": "python3"
  },
  "language_info": {
   "codemirror_mode": {
    "name": "ipython",
    "version": 3
   },
   "file_extension": ".py",
   "mimetype": "text/x-python",
   "name": "python",
   "nbconvert_exporter": "python",
   "pygments_lexer": "ipython3",
   "version": "3.11.5"
  }
 },
 "nbformat": 4,
 "nbformat_minor": 5
}
